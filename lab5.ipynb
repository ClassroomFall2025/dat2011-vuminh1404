{
 "cells": [
  {
   "cell_type": "markdown",
   "id": "fdeff819",
   "metadata": {},
   "source": [
    "# Sinh Viên thực hiện Lab 5 ở Đây"
   ]
  },
  {
   "cell_type": "markdown",
   "id": "acc5d7dc",
   "metadata": {},
   "source": [
    "## Lab 5 - Bài 1"
   ]
  },
  {
   "cell_type": "code",
   "execution_count": null,
   "id": "001e0507",
   "metadata": {},
   "outputs": [],
   "source": [
    "# Code lab 5 bài 1 ở đây\n",
    "from sanpham import SanPham\n",
    "ten = input(\"Nhập tên sản phẩm: \")\n",
    "gia = float(input(\"Nhập đơn giá: \"))\n",
    "giam_gia = float(input(\"Nhập số tiền giảm giá: \"))\n",
    "sp = SanPham(ten, gia, giam_gia)\n",
    "sp.xuat_thong_tin()"
   ]
  },
  {
   "cell_type": "markdown",
   "id": "c0835310",
   "metadata": {},
   "source": [
    "## Lab 5 - Bài 2"
   ]
  },
  {
   "cell_type": "code",
   "execution_count": null,
   "id": "fa9cb39f",
   "metadata": {},
   "outputs": [],
   "source": [
    "# Code lab 5  bài 2 ở đây\n",
    "from sanpham import SanPham\n",
    "sp1 = SanPham()\n",
    "sp2 = SanPham()\n",
    "print(\"Nhập thông tin sản phẩm 1: \")\n",
    "sp1.nhap()\n",
    "print(\"\\nNhập thông tin sản phẩm 2: \")\n",
    "sp2.nhap()\n",
    "print(\"\\nThông tin sản phẩm: \")\n",
    "sp1.xuat_thong_tin()\n",
    "sp2.xuat_thong_tin()\n"
   ]
  },
  {
   "cell_type": "markdown",
   "id": "0f2483fe",
   "metadata": {},
   "source": [
    "## Lab 5 - Bài 3"
   ]
  },
  {
   "cell_type": "code",
   "execution_count": null,
   "id": "7034990b",
   "metadata": {},
   "outputs": [],
   "source": [
    "# Code lab 5  bài 3 ở đây\n",
    "from sanpham import SanPham\n",
    "\n",
    "# Tạo 2 sản phẩm và nhập thông tin\n",
    "print(\"NHẬP THÔNG TIN SẢN PHẨM 1\")\n",
    "sp1 = SanPham()\n",
    "sp1.nhap()\n",
    "\n",
    "print(\"\\nNHẬP THÔNG TIN SẢN PHẨM 2\")\n",
    "sp2 = SanPham()\n",
    "sp2.nhap()\n",
    "\n",
    "print(\"\\nDANH SÁCH SẢN PHẨM\")\n",
    "sp1.xuat_thong_tin()\n",
    "sp2.xuat_thong_tin()\n",
    "\n",
    "print(\"\\nKIỂM TRA PROPERTY\")\n",
    "print(\"Tên sản phẩm 1:\", sp1.ten)\n",
    "sp2.ten = \"Điện thoại iPhone 15\"\n",
    "print(\"Tên sản phẩm 2 sau khi thay đổi:\", sp2.ten)"
   ]
  },
  {
   "cell_type": "markdown",
   "id": "d36ea3d3",
   "metadata": {},
   "source": [
    "## Lab 5 - Bài 4"
   ]
  },
  {
   "cell_type": "code",
   "execution_count": 4,
   "id": "4c707ec1",
   "metadata": {},
   "outputs": [
    {
     "ename": "ModuleNotFoundError",
     "evalue": "No module named 'sanpham'",
     "output_type": "error",
     "traceback": [
      "\u001b[31m---------------------------------------------------------------------------\u001b[39m",
      "\u001b[31mModuleNotFoundError\u001b[39m                       Traceback (most recent call last)",
      "\u001b[36mCell\u001b[39m\u001b[36m \u001b[39m\u001b[32mIn[4]\u001b[39m\u001b[32m, line 2\u001b[39m\n\u001b[32m      1\u001b[39m \u001b[38;5;66;03m# code lab 5 bài 4 ở đây\u001b[39;00m\n\u001b[32m----> \u001b[39m\u001b[32m2\u001b[39m \u001b[38;5;28;01mfrom\u001b[39;00m\u001b[38;5;250m \u001b[39m\u001b[34;01msanpham\u001b[39;00m\u001b[38;5;250m \u001b[39m\u001b[38;5;28;01mimport\u001b[39;00m SanPham\n\u001b[32m      3\u001b[39m \u001b[38;5;28mprint\u001b[39m(\u001b[33m\"\u001b[39m\u001b[33mNhập thông tin sản phẩm 1: \u001b[39m\u001b[33m\"\u001b[39m)\n\u001b[32m      4\u001b[39m ten1 = \u001b[38;5;28minput\u001b[39m(\u001b[33m\"\u001b[39m\u001b[33mTên sản phẩm 1: \u001b[39m\u001b[33m\"\u001b[39m)\n",
      "\u001b[31mModuleNotFoundError\u001b[39m: No module named 'sanpham'"
     ]
    }
   ],
   "source": [
    "# code lab 5 bài 4 ở đây\n",
    "from sanpham import SanPham\n",
    "print(\"Nhập thông tin sản phẩm 1: \")\n",
    "ten1 = input(\"Tên sản phẩm 1: \")\n",
    "gia1 = float(input(\"Giá sản phẩm 1: \"))\n",
    "giam_gia1 = float(input(\"Giảm giá sản phẩm 1: \"))\n",
    "print(\"\\nNhập thông tin sản phẩm 2:\")\n",
    "ten2 = input(\"Tên sản phẩm 2: \")\n",
    "gia2 = float(input(\"Giá sản phẩm 2: \"))\n",
    "giam_gia2 = float(input(\"Giảm giá sản phẩm 2: \"))\n",
    "sp1 = SanPham(ten1, gia1, giam_gia1)\n",
    "sp2 = SanPham(ten2, gia2, giam_gia2)\n",
    "print(\"\\nDanh sách sản phẩm\")\n",
    "sp1.xuat_thong_tin()\n",
    "sp2.xuat_thong_tin()"
   ]
  },
  {
   "cell_type": "markdown",
   "id": "e2b41d4a",
   "metadata": {},
   "source": [
    "## Lab 5 - Bài 5: bài tập làm thêm"
   ]
  },
  {
   "cell_type": "code",
   "execution_count": null,
   "id": "0e0172f7",
   "metadata": {},
   "outputs": [],
   "source": [
    "# code lab 5  bài làm thêm ở đây "
   ]
  }
 ],
 "metadata": {
  "kernelspec": {
   "display_name": "Python 3",
   "language": "python",
   "name": "python3"
  },
  "language_info": {
   "codemirror_mode": {
    "name": "ipython",
    "version": 3
   },
   "file_extension": ".py",
   "mimetype": "text/x-python",
   "name": "python",
   "nbconvert_exporter": "python",
   "pygments_lexer": "ipython3",
   "version": "3.13.2"
  }
 },
 "nbformat": 4,
 "nbformat_minor": 5
}
