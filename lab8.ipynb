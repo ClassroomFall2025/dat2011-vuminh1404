{
 "cells": [
  {
   "cell_type": "markdown",
   "id": "fdeff819",
   "metadata": {},
   "source": [
    "# Sinh Viên thực hiện Lab 8 ở Đây"
   ]
  },
  {
   "cell_type": "markdown",
   "id": "acc5d7dc",
   "metadata": {},
   "source": [
    "## Lab 8 - Bài 1"
   ]
  },
  {
   "cell_type": "code",
   "execution_count": 1,
   "id": "001e0507",
   "metadata": {},
   "outputs": [
    {
     "name": "stdout",
     "output_type": "stream",
     "text": [
      "Họ: TRUONG\n",
      "Tên đệm: MINH\n",
      "Tên: VU\n"
     ]
    }
   ],
   "source": [
    "# Code lab 8 bài 1 ở đây\n",
    "hoten = input(\"Nhập họ và tên: \").strip()\n",
    "t = hoten.split()\n",
    "\n",
    "ho = t[0]\n",
    "ten = t[-1]\n",
    "tendem = \" \".join(t[1:-1])\n",
    "\n",
    "print(f\"Họ: {ho}\")\n",
    "print(f\"Tên đệm: {tendem}\")\n",
    "print(f\"Tên: {ten.upper()}\")\n",
    "\n"
   ]
  },
  {
   "cell_type": "markdown",
   "id": "c0835310",
   "metadata": {},
   "source": [
    "## Lab 8 - Bài 2"
   ]
  },
  {
   "cell_type": "code",
   "execution_count": 2,
   "id": "fa9cb39f",
   "metadata": {},
   "outputs": [
    {
     "name": "stdout",
     "output_type": "stream",
     "text": [
      "✅ Thông tin hợp lệ!\n"
     ]
    }
   ],
   "source": [
    "# Code lab 8  bài 2 ở đây\n",
    "import re\n",
    "\n",
    "sv = {}\n",
    "\n",
    "sv[\"Họ tên\"] = input(\"Nhập họ tên: \")\n",
    "sv[\"Email\"] = input(\"Nhập email: \")\n",
    "sv[\"SĐT\"] = input(\"Nhập số điện thoại: \")\n",
    "sv[\"CMND\"] = input(\"Nhập số CMND: \")\n",
    "\n",
    "# Kiểm tra định dạng\n",
    "email_pattern = r\"^[\\w\\.-]+@[\\w\\.-]+\\.\\w+$\"\n",
    "phone_pattern = r\"^0\\d{9}$\"\n",
    "cmnd_pattern = r\"^\\d{9,12}$\"\n",
    "\n",
    "if not re.match(email_pattern, sv[\"Email\"]):\n",
    "    print(\"❌ Email không hợp lệ!\")\n",
    "if not re.match(phone_pattern, sv[\"SĐT\"]):\n",
    "    print(\"❌ Số điện thoại không hợp lệ!\")\n",
    "if not re.match(cmnd_pattern, sv[\"CMND\"]):\n",
    "    print(\"❌ Số CMND không hợp lệ!\")\n",
    "else:\n",
    "    print(\"✅ Thông tin hợp lệ!\")\n"
   ]
  },
  {
   "cell_type": "markdown",
   "id": "0f2483fe",
   "metadata": {},
   "source": [
    "## Lab 8 - Bài 3"
   ]
  },
  {
   "cell_type": "code",
   "execution_count": 3,
   "id": "7034990b",
   "metadata": {},
   "outputs": [
    {
     "name": "stdout",
     "output_type": "stream",
     "text": [
      "✅ Đã ghi 1 triệu số ngẫu nhiên vào file 'dulieu.txt'\n"
     ]
    }
   ],
   "source": [
    "# Code lab 8  bài 3 ở đây\n",
    "import random\n",
    "\n",
    "numbers = [str(random.randint(0, 100)) for _ in range(1_000_000)]\n",
    "\n",
    "with open(\"dulieu.txt\", \"w\") as f:\n",
    "    f.write(\" \".join(numbers))\n",
    "\n",
    "print(\"✅ Đã ghi 1 triệu số ngẫu nhiên vào file 'dulieu.txt'\")\n"
   ]
  },
  {
   "cell_type": "markdown",
   "id": "d36ea3d3",
   "metadata": {},
   "source": [
    "## Lab 8 - Bài 4"
   ]
  },
  {
   "cell_type": "code",
   "execution_count": 4,
   "id": "4c707ec1",
   "metadata": {},
   "outputs": [
    {
     "name": "stdout",
     "output_type": "stream",
     "text": [
      "Trung bình: 50.00\n",
      "Độ lệch chuẩn: 29.17\n"
     ]
    }
   ],
   "source": [
    "# code lab 8 bài 4 ở đây\n",
    "import statistics\n",
    "\n",
    "# Bài 4\n",
    "with open(\"dulieu.txt\", \"r\") as f:\n",
    "    data = f.read().split()\n",
    "\n",
    "numbers = list(map(int, data))\n",
    "\n",
    "mean = statistics.mean(numbers)\n",
    "stdev = statistics.stdev(numbers)\n",
    "\n",
    "print(f\"Trung bình: {mean:.2f}\")\n",
    "print(f\"Độ lệch chuẩn: {stdev:.2f}\")\n"
   ]
  },
  {
   "cell_type": "markdown",
   "id": "e2b41d4a",
   "metadata": {},
   "source": [
    "## Lab 8 - Bài 5: bài tập làm thêm"
   ]
  },
  {
   "cell_type": "code",
   "execution_count": null,
   "id": "0e0172f7",
   "metadata": {},
   "outputs": [],
   "source": [
    "# code lab 8  bài làm thêm ở đây "
   ]
  }
 ],
 "metadata": {
  "kernelspec": {
   "display_name": "Python 3",
   "language": "python",
   "name": "python3"
  },
  "language_info": {
   "codemirror_mode": {
    "name": "ipython",
    "version": 3
   },
   "file_extension": ".py",
   "mimetype": "text/x-python",
   "name": "python",
   "nbconvert_exporter": "python",
   "pygments_lexer": "ipython3",
   "version": "3.13.2"
  }
 },
 "nbformat": 4,
 "nbformat_minor": 5
}
