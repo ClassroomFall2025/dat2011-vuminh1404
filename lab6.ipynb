{
 "cells": [
  {
   "cell_type": "markdown",
   "id": "fdeff819",
   "metadata": {},
   "source": [
    "# Sinh Viên thực hiện Lab 6 ở Đây"
   ]
  },
  {
   "cell_type": "markdown",
   "id": "acc5d7dc",
   "metadata": {},
   "source": [
    "## Lab 6 - Bài 1"
   ]
  },
  {
   "cell_type": "code",
   "execution_count": null,
   "id": "001e0507",
   "metadata": {},
   "outputs": [],
   "source": [
    "# Code lab 6 bài 1 ở đây\n",
    "class ChuNhat:\n",
    "    def __init__(self, dai, rong):\n",
    "        self.dai = dai\n",
    "        self.rong = rong\n",
    "\n",
    "    def get_chu_vi(self):\n",
    "        return 2 * (self.dai + self.rong)\n",
    "\n",
    "    def get_dien_tich(self):\n",
    "        return self.dai * self.rong\n",
    "\n",
    "    def xuat(self):\n",
    "        print(f\"Chiều dài: {self.dai}\")\n",
    "        print(f\"Chiều rộng: {self.rong}\")\n",
    "        print(f\"Diện tích: {self.get_dien_tich()}\")\n",
    "        print(f\"Chu vi: {self.get_chu_vi()}\")\n",
    "        print(\"-\" * 30)\n",
    "\n",
    "\n",
    "class Vuong(ChuNhat):\n",
    "    def __init__(self, canh):\n",
    "        super().__init__(canh, canh)  # Gọi lại hàm tạo của ChuNhat\n",
    "\n",
    "    def xuat(self):\n",
    "        print(f\"Cạnh hình vuông: {self.dai}\")\n",
    "        print(f\"Diện tích: {self.get_dien_tich()}\")\n",
    "        print(f\"Chu vi: {self.get_chu_vi()}\")\n",
    "        print(\"-\" * 30)\n",
    "\n",
    "\n",
    "# --- Chương trình chính ---\n",
    "# Nhập 2 hình chữ nhật\n",
    "print(\"Nhập hình chữ nhật 1:\")\n",
    "dai1 = float(input(\"Chiều dài: \"))\n",
    "rong1 = float(input(\"Chiều rộng: \"))\n",
    "\n",
    "print(\"\\nNhập hình chữ nhật 2:\")\n",
    "dai2 = float(input(\"Chiều dài: \"))\n",
    "rong2 = float(input(\"Chiều rộng: \"))\n",
    "\n",
    "# Nhập hình vuông\n",
    "print(\"\\nNhập hình vuông:\")\n",
    "canh = float(input(\"Cạnh: \"))\n",
    "\n",
    "# Tạo đối tượng\n",
    "cn1 = ChuNhat(dai1, rong1)\n",
    "cn2 = ChuNhat(dai2, rong2)\n",
    "v = Vuong(canh)\n",
    "\n",
    "# Xuất thông tin\n",
    "print(\"\\n--- Kết quả ---\")\n",
    "cn1.xuat()\n",
    "cn2.xuat()\n",
    "v.xuat()\n"
   ]
  },
  {
   "cell_type": "markdown",
   "id": "c0835310",
   "metadata": {},
   "source": [
    "## Lab 6 - Bài 2"
   ]
  },
  {
   "cell_type": "code",
   "execution_count": null,
   "id": "fa9cb39f",
   "metadata": {},
   "outputs": [],
   "source": [
    "# Code lab 6  bài 2 ở đây\n",
    "from sinhvienpoly import SinhVienIT, SinhVienBiz\n",
    "\n",
    "ho_ten_it = input(\"Nhập họ tên SV IT: \")\n",
    "java = float(input(\"Nhập điểm Java: \"))\n",
    "html = float(input(\"Nhập điểm HTML: \"))\n",
    "css = float(input(\"Nhập điểm CSS: \"))\n",
    "sv_it = SinhVienIT(ho_ten_it, java, html, css)\n",
    "\n",
    "ho_ten_biz = input(\"\\nNhập họ tên SV Biz: \")\n",
    "marketing = float(input(\"Nhập điểm Marketing: \"))\n",
    "sales = float(input(\"Nhập điểm Sales: \"))\n",
    "sv_biz = SinhVienBiz(ho_ten_biz, marketing, sales)\n",
    "\n",
    "print(\"\\n--- Thông tin sinh viên IT ---\")\n",
    "sv_it.xuat()\n",
    "\n",
    "print(\"\\n--- Thông tin sinh viên Biz ---\")\n",
    "sv_biz.xuat()"
   ]
  },
  {
   "cell_type": "markdown",
   "id": "0f2483fe",
   "metadata": {},
   "source": [
    "## Lab 6 - Bài 3"
   ]
  },
  {
   "cell_type": "code",
   "execution_count": null,
   "id": "7034990b",
   "metadata": {},
   "outputs": [],
   "source": [
    "# Code lab 6  bài 3 ở đây\n",
    "from sinhvienpoly import SinhVienIT, SinhVienBiz\n",
    "\n",
    "ho_ten_it = input(\"Nhập họ tên SV IT: \")\n",
    "java = float(input(\"Nhập điểm Java: \"))\n",
    "html = float(input(\"Nhập điểm HTML: \"))\n",
    "css = float(input(\"Nhập điểm CSS: \"))\n",
    "sv_it = SinhVienIT(ho_ten_it, java, html, css)\n",
    "\n",
    "ho_ten_biz = input(\"\\nNhập họ tên SV Biz: \")\n",
    "marketing = float(input(\"Nhập điểm Marketing: \"))\n",
    "sales = float(input(\"Nhập điểm Sales: \"))\n",
    "sv_biz = SinhVienBiz(ho_ten_biz, marketing, sales)\n",
    "\n",
    "print(\"\\n--- Thông tin sinh viên IT ---\")\n",
    "sv_it.xuat()\n",
    "\n",
    "print(\"\\n--- Thông tin sinh viên Biz ---\")\n",
    "sv_biz.xuat()"
   ]
  },
  {
   "cell_type": "markdown",
   "id": "d36ea3d3",
   "metadata": {},
   "source": [
    "## Lab 6 - Bài 4"
   ]
  },
  {
   "cell_type": "code",
   "execution_count": 1,
   "id": "4c707ec1",
   "metadata": {},
   "outputs": [
    {
     "ename": "ModuleNotFoundError",
     "evalue": "No module named 'quanlysinhvien'",
     "output_type": "error",
     "traceback": [
      "\u001b[31m---------------------------------------------------------------------------\u001b[39m",
      "\u001b[31mModuleNotFoundError\u001b[39m                       Traceback (most recent call last)",
      "\u001b[36mCell\u001b[39m\u001b[36m \u001b[39m\u001b[32mIn[1]\u001b[39m\u001b[32m, line 2\u001b[39m\n\u001b[32m      1\u001b[39m \u001b[38;5;66;03m# code lab 6 bài 4 ở đây\u001b[39;00m\n\u001b[32m----> \u001b[39m\u001b[32m2\u001b[39m \u001b[38;5;28;01mimport\u001b[39;00m\u001b[38;5;250m \u001b[39m\u001b[34;01mquanlysinhvien\u001b[39;00m\u001b[38;5;250m \u001b[39m\u001b[38;5;28;01mas\u001b[39;00m\u001b[38;5;250m \u001b[39m\u001b[34;01mquanlysinhvien\u001b[39;00m\n\u001b[32m      4\u001b[39m \u001b[38;5;28;01mwhile\u001b[39;00m \u001b[38;5;28;01mTrue\u001b[39;00m:\n\u001b[32m      5\u001b[39m     \u001b[38;5;28mprint\u001b[39m(\u001b[33m\"\u001b[39m\u001b[38;5;130;01m\\n\u001b[39;00m\u001b[33m====== QUẢN LÝ SINH VIÊN ======\u001b[39m\u001b[33m\"\u001b[39m)\n",
      "\u001b[31mModuleNotFoundError\u001b[39m: No module named 'quanlysinhvien'"
     ]
    }
   ],
   "source": [
    "# code lab 6 bài 4 ở đây\n",
    "import quanlysinhvien as quanlysinhvien\n",
    "\n",
    "while True:\n",
    "    print(\"\\n====== QUẢN LÝ SINH VIÊN ======\")\n",
    "    print(\"1. Nhập danh sách sinh viên\")\n",
    "    print(\"2. Xuất thông tin danh sách sinh viên\")\n",
    "    print(\"3. Xuất danh sách sinh viên có học lực giỏi\")\n",
    "    print(\"4. Sắp xếp danh sách sinh viên theo điểm\")\n",
    "    print(\"5. Kết thúc\")\n",
    "    chon = input(\"Chọn chức năng (1-5): \")\n",
    "\n",
    "    match chon:\n",
    "        case \"1\":\n",
    "            quanlysinhvien.nhap_sinh_vien()\n",
    "        case \"2\":\n",
    "            quanlysinhvien.xuat_danh_sach()\n",
    "        case \"3\":\n",
    "            quanlysinhvien.xuat_sv_gioi()\n",
    "        case \"4\":\n",
    "            quanlysinhvien.sap_xep_theo_diem()\n",
    "        case \"5\":\n",
    "            print(\"Chương trình kết thúc.\")\n",
    "            break\n",
    "        case _:\n",
    "            print(\"Vui lòng nhập lại\")"
   ]
  },
  {
   "cell_type": "markdown",
   "id": "e2b41d4a",
   "metadata": {},
   "source": [
    "## Lab 6 - Bài 5: bài tập làm thêm"
   ]
  },
  {
   "cell_type": "code",
   "execution_count": null,
   "id": "0e0172f7",
   "metadata": {},
   "outputs": [],
   "source": [
    "# code lab 6  bài làm thêm ở đây "
   ]
  }
 ],
 "metadata": {
  "kernelspec": {
   "display_name": "Python 3",
   "language": "python",
   "name": "python3"
  },
  "language_info": {
   "codemirror_mode": {
    "name": "ipython",
    "version": 3
   },
   "file_extension": ".py",
   "mimetype": "text/x-python",
   "name": "python",
   "nbconvert_exporter": "python",
   "pygments_lexer": "ipython3",
   "version": "3.13.2"
  }
 },
 "nbformat": 4,
 "nbformat_minor": 5
}
