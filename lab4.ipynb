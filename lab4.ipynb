{
 "cells": [
  {
   "cell_type": "markdown",
   "id": "fdeff819",
   "metadata": {},
   "source": [
    "# Sinh Viên thực hiện Lab 4 ở Đây"
   ]
  },
  {
   "cell_type": "markdown",
   "id": "acc5d7dc",
   "metadata": {},
   "source": [
    "## Lab 1 - Bài 1"
   ]
  },
  {
   "cell_type": "code",
   "execution_count": null,
   "id": "001e0507",
   "metadata": {},
   "outputs": [],
   "source": [
    "# Code lab 4 bài 1 ở đây\n",
    "def tinh_tien_nuoc(so_nuoc):\n",
    "    gia_ban_nuoc = (7500,8800,12000,24000)\n",
    "    if so_nuoc <= 10 and so_nuoc >= 0:\n",
    "        tien_nuoc_thang = so_nuoc*gia_ban_nuoc[0]\n",
    "    elif so_nuoc <= 20:\n",
    "        tinh_nuoc_thang = 10 * gia_ban_nuoc[0] * (so_nuoc - 10) * gia_ban_nuoc[1]\n",
    "    elif so_nuoc <= 30:\n",
    "        tinh_nuoc_thang = 10 * gia_ban_nuoc[0] * 10* gia_ban_nuoc[1] + (so_nuoc - 20)* gia_ban_nuoc[2]\n",
    "    elif so_nuoc <= 40:\n",
    "         tinh_nuoc_thang = 10 * gia_ban_nuoc[0] + 10* gia_ban_nuoc[1] + 10 *gia_ban_nuoc[2] +(so_nuoc -30)* gia_ban_nuoc[3]\n",
    "         return tien_nuoc_thang"
   ]
  },
  {
   "cell_type": "markdown",
   "id": "c0835310",
   "metadata": {},
   "source": [
    "## Lab 4 - Bài 2"
   ]
  },
  {
   "cell_type": "code",
   "execution_count": null,
   "id": "fa9cb39f",
   "metadata": {},
   "outputs": [],
   "source": [
    "# Code lab 4  bài 2 ở đây\n",
    "def tinh_nguyen_lieu(sl_bdx,sl_btc,sl_db):\n",
    "    banh_dau_xanh ={\"duong\":0.04,\"dau\":0.07}\n",
    "    banh_thap_cam ={\"duong\":0.06,\"dau\":0}\n",
    "    banh_deo ={\"duong\":0.05,\"dau\":0.02}\n",
    "    duong_hop_banh = sl_bdx * banh_dau_xanh[\"duong\"] + sl_btc * banh_thap_cam[\"duong\"] + sl_db * banh_deo[\"duong\"]\n",
    "    dau_hop_banh = sl_bdx * banh_dau_xanh[\"dau\"] +sl_btc * banh_thap_cam[\"dau\"] + sl_db * banh_deo[\"dau\"]\n",
    "    nguyen_lieu[\"duong\"] = dau_hop_banh\n",
    "    nguyen_lieu[\"dau\"] = dau_hop_banh\n",
    "    return nguyen_lieu"
   ]
  },
  {
   "cell_type": "markdown",
   "id": "0f2483fe",
   "metadata": {},
   "source": [
    "## Lab 4 - Bài 3"
   ]
  },
  {
   "cell_type": "code",
   "execution_count": null,
   "id": "7034990b",
   "metadata": {},
   "outputs": [],
   "source": [
    "# Code lab 4  bài 3 ở đây\n",
    "sinh_vien = {}\n",
    "sinh_vien['ho_va_ten'] = input(\"Nhập họ tên sinh viên: \")\n",
    "diem =float(input(\"Nhập điểm sinh viên: \"))\n",
    "sinh_vien['diem'] = diem\n",
    "\n",
    "# xếp loại sinh viên\n",
    "if diem <5:\n",
    "    xep_loai = 'Yếu'\n",
    "elif 5 <= diem < 7:\n",
    "    xep_loai = 'Trung bình'\n",
    "elif 7 <= diem < 8:\n",
    "    xep_loai = 'Khá'\n",
    "elif 8 <= diem < 9:\n",
    "    xep_loai = 'Giỏi'\n",
    "else:\n",
    "    xep_loai = 'Xuất sắc'\n",
    "sinh_vien['xep_loai'] = xep_loai\n",
    "\n",
    "# in ra thông tin sinh viên\n",
    "print(\"Thông tin sinh viên:\")\n",
    "print(\"Họ tên:\", sinh_vien['ho_va_ten'])\n",
    "print(\"Điểm:\", sinh_vien['diem'])\n",
    "print(\"Xếp loại:\", sinh_vien['xep_loai'])"
   ]
  },
  {
   "cell_type": "markdown",
   "id": "d36ea3d3",
   "metadata": {},
   "source": [
    "## Lab 4 - Bài 4"
   ]
  },
  {
   "cell_type": "code",
   "execution_count": null,
   "id": "4c707ec1",
   "metadata": {},
   "outputs": [],
   "source": [
    "# code lab 4 bài 4 ở đây\n",
    "menu = \"\"\"\n",
    "1. Tính tiền nước\n",
    "2. Tính nguyên liệu làm bánh\n",
    "3. Thoát\n",
    "\"\"\"\n",
    "\n",
    "def main():\n",
    "    while True:\n",
    "        print(menu)\n",
    "        chon_chuc_nang = input(\"Chọn chức năng (1-3): \")\n",
    "        if chon_chuc_nang == '1':\n",
    "            so_nuoc = int(input(\"Nhập số nước tiêu thụ trong tháng (m3): \"))\n",
    "            tien_nuoc = tinh_tien_nuoc(so_nuoc)\n",
    "            print(f\"Tiền nước tháng này là: {tien_nuoc:,} VND\")\n",
    "        elif chon_chuc_nang == '2':\n",
    "            s1_bdx = int(input(\"Nhập số bánh đậu xanh cần làm: \"))\n",
    "            s2_btc = int(input(\"Nhập số bánh thập cẩm cần làm: \"))\n",
    "            s3_bd = int(input(\"Nhập số bánh dẻo cần làm: \"))\n",
    "            duong, dau = tinh_nguyen_lieu(s1_bdx, s2_btc, s3_bd)\n",
    "            print(f\"Số đường cần dùng: {duong:.2f} kg\")\n",
    "            print(f\"Số đậu cần dùng: {dau:.2f} kg\")\n",
    "        elif chon_chuc_nang == '3':\n",
    "            print(\"Thoát chương trình.\")\n",
    "            break\n",
    "        else:\n",
    "            print(\" Vui lòng chọn 1-3!\")\n",
    "\n",
    "def tinh_tien_nuoc(so_nuoc):\n",
    "    gia_ban_nuoc = (7500, 8000, 12000, 24000)\n",
    "    if so_nuoc <= 0:\n",
    "        return 0\n",
    "    elif so_nuoc <= 10:\n",
    "        tien_nuoc_thang = so_nuoc * gia_ban_nuoc[0]\n",
    "    elif so_nuoc <= 20:\n",
    "        tien_nuoc_thang = 10 * gia_ban_nuoc[0] + (so_nuoc - 10) * gia_ban_nuoc[1]\n",
    "    elif so_nuoc <= 30:\n",
    "        tien_nuoc_thang = 10 * gia_ban_nuoc[0] + 10 * gia_ban_nuoc[1] + (so_nuoc - 20) * gia_ban_nuoc[2]\n",
    "    else:\n",
    "        tien_nuoc_thang = 10 * gia_ban_nuoc[0] + 10 * gia_ban_nuoc[1] + 10 * gia_ban_nuoc[2] + (so_nuoc - 30) * gia_ban_nuoc[3]\n",
    "    return tien_nuoc_thang\n",
    "\n",
    "def tinh_nguyen_lieu(s1_bdx, s2_btc, s3_bd):\n",
    "    banh_dau_xanh = {\"đường\": 0.04, \"đậu\":0.07}\n",
    "    banh_thap_cam = {\"đường\": 0.06 , \"đậu\":0}\n",
    "    banh_dẻo = {\"đường\": 0.05, \"đậu\":0.02}\n",
    "    duong_lam_banh = s1_bdx * banh_dau_xanh[\"đường\"] + s2_btc * banh_thap_cam[\"đường\"] + s3_bd * banh_dẻo[\"đường\"]\n",
    "    dau_lam_banh = s1_bdx * banh_dau_xanh[\"đậu\"] + s2_btc * banh_thap_cam[\"đậu\"] + s3_bd * banh_dẻo[\"đậu\"]\n",
    "    return duong_lam_banh, dau_lam_banh"
   ]
  },
  {
   "cell_type": "markdown",
   "id": "e2b41d4a",
   "metadata": {},
   "source": [
    "## Lab 4 - Bài 5: bài tập làm thêm"
   ]
  },
  {
   "cell_type": "code",
   "execution_count": null,
   "id": "0e0172f7",
   "metadata": {},
   "outputs": [],
   "source": [
    "# code lab 4  bài làm thêm ở đây "
   ]
  }
 ],
 "metadata": {
  "kernelspec": {
   "display_name": "Python 3",
   "language": "python",
   "name": "python3"
  },
  "language_info": {
   "name": "python",
   "version": "3.13.2"
  }
 },
 "nbformat": 4,
 "nbformat_minor": 5
}
