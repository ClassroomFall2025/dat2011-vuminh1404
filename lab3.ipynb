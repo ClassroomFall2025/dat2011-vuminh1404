{
 "cells": [
  {
   "cell_type": "markdown",
   "id": "fdeff819",
   "metadata": {},
   "source": [
    "# Sinh Viên thực hiện Lab 3 ở Đây"
   ]
  },
  {
   "cell_type": "markdown",
   "id": "acc5d7dc",
   "metadata": {},
   "source": [
    "## Lab 3 - Bài 1"
   ]
  },
  {
   "cell_type": "code",
   "execution_count": 4,
   "id": "001e0507",
   "metadata": {},
   "outputs": [
    {
     "name": "stdout",
     "output_type": "stream",
     "text": [
      "Dãy số sau khi sắp xếp tăng dần: [9, 9, 12, 19, 19, 20, 21, 23, 59, 77]\n",
      "Phần tử nhỏ nhất trong dãy: 9\n",
      "Trung bình cộng các phần tử chia hết cho 3: 12.75\n"
     ]
    }
   ],
   "source": [
    "# Code lab 3 bài 1 ở đây\n",
    "# Nhập dãy số nguyên (có thể thay bằng input nếu cần)\n",
    "day_so = [9, 59, 21, 9, 20, 23, 19, 12, 19, 77]\n",
    "\n",
    "# 1. Sắp xếp tăng dần\n",
    "day_so.sort()\n",
    "print(\"Dãy số sau khi sắp xếp tăng dần:\", day_so)\n",
    "\n",
    "# 2. Phần tử nhỏ nhất\n",
    "print(\"Phần tử nhỏ nhất trong dãy:\", day_so[0])\n",
    "\n",
    "# 3. Trung bình cộng các phần tử chia hết cho 3\n",
    "tong = 0\n",
    "dem = 0\n",
    "for n in day_so:\n",
    "    if n % 3 == 0:\n",
    "        tong += n\n",
    "        dem += 1\n",
    "\n",
    "if dem > 0:\n",
    "    tbc = tong / dem\n",
    "    print(\"Trung bình cộng các phần tử chia hết cho 3:\", tbc)\n",
    "else:\n",
    "    print(\"Không có phần tử nào chia hết cho 3\")\n"
   ]
  },
  {
   "cell_type": "markdown",
   "id": "c0835310",
   "metadata": {},
   "source": [
    "## Lab 3 - Bài 2"
   ]
  },
  {
   "cell_type": "code",
   "execution_count": null,
   "id": "fa9cb39f",
   "metadata": {},
   "outputs": [
    {
     "name": "stdout",
     "output_type": "stream",
     "text": [
      "\n",
      "Thông tin sinh viên:\n",
      "Họ tên: truong minh vu\n",
      "Điểm: 10.0\n",
      "Xếp loại: Xuất sắc\n"
     ]
    }
   ],
   "source": [
    "# Code lab 3  bài 2 ở đây\n",
    "# Nhập thông tin sinh viên\n",
    "sinh_vien = {\n",
    "    \"ho_ten\": input(\"Nhập họ tên sinh viên: \"),\n",
    "    \"diem\": float(input(\"Nhập điểm của sinh viên: \"))\n",
    "}\n",
    "\n",
    "# Xác định xếp loại dựa theo điểm\n",
    "diem = sinh_vien[\"diem\"]\n",
    "if diem < 5:\n",
    "    xep_loai = \"Yếu\"\n",
    "elif diem < 7:\n",
    "    xep_loai = \"Trung bình\"\n",
    "elif diem < 8:\n",
    "    xep_loai = \"Khá\"\n",
    "elif diem < 9:\n",
    "    xep_loai = \"Giỏi\"\n",
    "else:\n",
    "    xep_loai = \"Xuất sắc\"\n",
    "\n",
    "# Xuất thông tin sinh viên\n",
    "print(\"\\nThông tin sinh viên:\")\n",
    "print(\"Họ tên:\", sinh_vien[\"ho_ten\"])\n",
    "print(\"Điểm:\", sinh_vien[\"diem\"])\n",
    "print(\"Xếp loại:\", xep_loai)S\n"
   ]
  },
  {
   "cell_type": "markdown",
   "id": "0f2483fe",
   "metadata": {},
   "source": [
    "## Lab 3 - Bài 3"
   ]
  },
  {
   "cell_type": "code",
   "execution_count": 6,
   "id": "7034990b",
   "metadata": {},
   "outputs": [
    {
     "name": "stdout",
     "output_type": "stream",
     "text": [
      "5 là số nguyên tố\n"
     ]
    }
   ],
   "source": [
    "# Code lab 3  bài 3 ở đây\n",
    "# Nhập số nguyên từ bàn phím\n",
    "n = int(input(\"Nhập một số nguyên: \"))\n",
    "\n",
    "# Giả sử ban đầu là số nguyên tố\n",
    "ok = True\n",
    "\n",
    "# Số nhỏ hơn 2 thì không phải số nguyên tố\n",
    "if n < 2:\n",
    "    ok = False\n",
    "else:\n",
    "    i = 2\n",
    "    while i < n:   # chạy từ 2 đến n-1\n",
    "        if n % i == 0:\n",
    "            ok = False\n",
    "            break\n",
    "        i += 1\n",
    "\n",
    "# Xuất kết quả\n",
    "if ok:\n",
    "    print(n, \"là số nguyên tố\")\n",
    "else:\n",
    "    print(n, \"không phải là số nguyên tố\")\n"
   ]
  },
  {
   "cell_type": "markdown",
   "id": "d36ea3d3",
   "metadata": {},
   "source": [
    "## Lab 3 - Bài 4"
   ]
  },
  {
   "cell_type": "code",
   "execution_count": 7,
   "id": "4c707ec1",
   "metadata": {},
   "outputs": [
    {
     "name": "stdout",
     "output_type": "stream",
     "text": [
      "1 x 1 = 1\n",
      "1 x 2 = 2\n",
      "1 x 3 = 3\n",
      "1 x 4 = 4\n",
      "1 x 5 = 5\n",
      "1 x 6 = 6\n",
      "1 x 7 = 7\n",
      "1 x 8 = 8\n",
      "1 x 9 = 9\n",
      "\n",
      "2 x 1 = 2\n",
      "2 x 2 = 4\n",
      "2 x 3 = 6\n",
      "2 x 4 = 8\n",
      "2 x 5 = 10\n",
      "2 x 6 = 12\n",
      "2 x 7 = 14\n",
      "2 x 8 = 16\n",
      "2 x 9 = 18\n",
      "\n",
      "3 x 1 = 3\n",
      "3 x 2 = 6\n",
      "3 x 3 = 9\n",
      "3 x 4 = 12\n",
      "3 x 5 = 15\n",
      "3 x 6 = 18\n",
      "3 x 7 = 21\n",
      "3 x 8 = 24\n",
      "3 x 9 = 27\n",
      "\n",
      "4 x 1 = 4\n",
      "4 x 2 = 8\n",
      "4 x 3 = 12\n",
      "4 x 4 = 16\n",
      "4 x 5 = 20\n",
      "4 x 6 = 24\n",
      "4 x 7 = 28\n",
      "4 x 8 = 32\n",
      "4 x 9 = 36\n",
      "\n",
      "5 x 1 = 5\n",
      "5 x 2 = 10\n",
      "5 x 3 = 15\n",
      "5 x 4 = 20\n",
      "5 x 5 = 25\n",
      "5 x 6 = 30\n",
      "5 x 7 = 35\n",
      "5 x 8 = 40\n",
      "5 x 9 = 45\n",
      "\n",
      "6 x 1 = 6\n",
      "6 x 2 = 12\n",
      "6 x 3 = 18\n",
      "6 x 4 = 24\n",
      "6 x 5 = 30\n",
      "6 x 6 = 36\n",
      "6 x 7 = 42\n",
      "6 x 8 = 48\n",
      "6 x 9 = 54\n",
      "\n",
      "7 x 1 = 7\n",
      "7 x 2 = 14\n",
      "7 x 3 = 21\n",
      "7 x 4 = 28\n",
      "7 x 5 = 35\n",
      "7 x 6 = 42\n",
      "7 x 7 = 49\n",
      "7 x 8 = 56\n",
      "7 x 9 = 63\n",
      "\n",
      "8 x 1 = 8\n",
      "8 x 2 = 16\n",
      "8 x 3 = 24\n",
      "8 x 4 = 32\n",
      "8 x 5 = 40\n",
      "8 x 6 = 48\n",
      "8 x 7 = 56\n",
      "8 x 8 = 64\n",
      "8 x 9 = 72\n",
      "\n",
      "9 x 1 = 9\n",
      "9 x 2 = 18\n",
      "9 x 3 = 27\n",
      "9 x 4 = 36\n",
      "9 x 5 = 45\n",
      "9 x 6 = 54\n",
      "9 x 7 = 63\n",
      "9 x 8 = 72\n",
      "9 x 9 = 81\n",
      "\n"
     ]
    }
   ],
   "source": [
    "# code lab 3 bài 4 ở đây\n",
    "# Xuất bảng cửu chương từ 1 đến 9\n",
    "for i in range(1, 10):        # số thứ nhất (1 đến 9)\n",
    "    for j in range(1, 10):    # số thứ hai (1 đến 9)\n",
    "        print(\"%d x %d = %d\" % (i, j, i * j))\n",
    "    print()   # xuống dòng giữa các bảng\n"
   ]
  },
  {
   "cell_type": "markdown",
   "id": "e2b41d4a",
   "metadata": {},
   "source": [
    "## Lab 3 - Bài 5: bài tập làm thêm"
   ]
  },
  {
   "cell_type": "code",
   "execution_count": null,
   "id": "0e0172f7",
   "metadata": {},
   "outputs": [],
   "source": [
    "# code lab 3  bài làm thêm ở đây "
   ]
  }
 ],
 "metadata": {
  "kernelspec": {
   "display_name": "Python 3",
   "language": "python",
   "name": "python3"
  },
  "language_info": {
   "codemirror_mode": {
    "name": "ipython",
    "version": 3
   },
   "file_extension": ".py",
   "mimetype": "text/x-python",
   "name": "python",
   "nbconvert_exporter": "python",
   "pygments_lexer": "ipython3",
   "version": "3.13.2"
  }
 },
 "nbformat": 4,
 "nbformat_minor": 5
}
