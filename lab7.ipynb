{
 "cells": [
  {
   "cell_type": "markdown",
   "id": "fdeff819",
   "metadata": {},
   "source": [
    "# Sinh Viên thực hiện Lab 7 ở Đây"
   ]
  },
  {
   "cell_type": "markdown",
   "id": "acc5d7dc",
   "metadata": {},
   "source": [
    "## Lab 7 - Bài 1"
   ]
  },
  {
   "cell_type": "code",
   "execution_count": null,
   "id": "001e0507",
   "metadata": {},
   "outputs": [],
   "source": [
    "# Code lab 7 bài 1 ở đây\n",
    "file = open(\"Resource.txt\",\"r\",encoding=\"utf-8\")\n",
    "noidung = file.read()\n",
    "print(noidung)\n",
    "file = open(\"Resource.txt\",\"r\",encoding=\"utf-8\")\n",
    "dong1=file.readline()\n",
    "dong2=file.readline()\n",
    "print(dong1)\n",
    "print(dong2)\n",
    "file.close()"
   ]
  },
  {
   "cell_type": "markdown",
   "id": "c0835310",
   "metadata": {},
   "source": [
    "## Lab 7 - Bài 2"
   ]
  },
  {
   "cell_type": "code",
   "execution_count": null,
   "id": "fa9cb39f",
   "metadata": {},
   "outputs": [],
   "source": [
    "# Code lab 7  bài 2 ở đây\n",
    "with open(\"Resource.txt\", \"r\", encoding=\"utf-8\") as f:\n",
    "    noi_dung = f.read()\n",
    "noi_dung = \"\"\"… \n",
    "Nếu một mai tôi có bay lên trời \n",
    "Thì người ơi tôi đã sống rất thảnh thơi\n",
    "Nếu một mai tôi có đi qua đời \n",
    "Thì người ơi tôi đã sống rất tuyệt vời \n",
    "…\"\"\"\n",
    "with open(\"Lab7-Exercise2.txt\", \"w\", encoding=\"utf-8\") as f:\n",
    "    f.write(noi_dung)"
   ]
  },
  {
   "cell_type": "markdown",
   "id": "0f2483fe",
   "metadata": {},
   "source": [
    "## Lab 7 - Bài 3"
   ]
  },
  {
   "cell_type": "code",
   "execution_count": null,
   "id": "7034990b",
   "metadata": {},
   "outputs": [],
   "source": [
    "# Code lab 7  bài 3 ở đây\n",
    "import csv\n",
    "with open(\"5baitho.csv\",\"w\", encoding=\"utf-8\") as f:\n",
    "    write = csv.writer(f)\n",
    "    write.writerow(\"Tên bài thơ, Tác giả, Năm sáng tác\".split(\",\"))\n",
    "    for i in range(1,6):\n",
    "        print(f\"\\n Nhập thông tin bài thơ thứ {i}:\")\n",
    "        tiêu_đề= input(\"tiêu đề: \")\n",
    "        tác_giả= input(\"tác giả: \")\n",
    "        năm_sáng_tác = input(\"năm sáng tác: \")\n",
    "        print(tiêu_đề, tác_giả, năm_sáng_tác)\n",
    "        write.writerow([tiêu_đề, tác_giả, năm_sáng_tác])"
   ]
  },
  {
   "cell_type": "markdown",
   "id": "d36ea3d3",
   "metadata": {},
   "source": [
    "## Lab 7 - Bài 4"
   ]
  },
  {
   "cell_type": "code",
   "execution_count": null,
   "id": "4c707ec1",
   "metadata": {},
   "outputs": [],
   "source": [
    "# code lab 7 bài 4 ở đây\n",
    "filename = input(\"Nhập tên file .xml muốn tạo: \")\n",
    "ten_bai_tho = \"Tự nguyện\"\n",
    "ten_tac_gia = \"Trương Quốc Khánh\"\n",
    "with open(\"Resource.txt\", \"r\", encoding=\"utf-8\") as file:\n",
    "    lines = [line.strip() for line in file.readlines()]\n",
    "with open(\"Resource.txt\", \"r\", encoding=\"utf-8\") as file:\n",
    "    dong = file.readlines()\n",
    "    print(dong)\n",
    "for d in dong:\n",
    "    print(d)\n",
    "with open(filename, \"w\", encoding=\"utf-8\") as f1:\n",
    "    f1.write(\"<poem>\\n\")\n",
    "    f1.write(f\"  <title>{ten_bai_tho}</title>\\n\")\n",
    "    f1.write(f\"  <author>{ten_tac_gia}</author>\\n\")\n",
    "    for section in lines:\n",
    "        if section:\n",
    "            f1.write(\"  <section>\\n\")\n",
    "            f1.write(f\"    <line>{section}</line>\\n\")\n",
    "            f1.write(\"  </section>\\n\")\n",
    "print(\"Tạo file dữ liệu XML thành công!\")"
   ]
  },
  {
   "cell_type": "markdown",
   "id": "e2b41d4a",
   "metadata": {},
   "source": [
    "## Lab 7 - Bài 5: bài tập làm thêm"
   ]
  },
  {
   "cell_type": "code",
   "execution_count": null,
   "id": "0e0172f7",
   "metadata": {},
   "outputs": [],
   "source": [
    "# code lab 7  bài làm thêm ở đây "
   ]
  }
 ],
 "metadata": {
  "kernelspec": {
   "display_name": "Python 3",
   "language": "python",
   "name": "python3"
  },
  "language_info": {
   "name": "python",
   "version": "3.13.2"
  }
 },
 "nbformat": 4,
 "nbformat_minor": 5
}
