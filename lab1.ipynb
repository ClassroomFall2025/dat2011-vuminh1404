{
 "cells": [
  {
   "cell_type": "markdown",
   "id": "fdeff819",
   "metadata": {},
   "source": [
    "# Sinh Viên thực hiện Lab 1 ở Đây"
   ]
  },
  {
   "cell_type": "markdown",
   "id": "acc5d7dc",
   "metadata": {},
   "source": [
    "## Lab 1 - Bài 1"
   ]
  },
  {
   "cell_type": "code",
   "execution_count": 3,
   "id": "001e0507",
   "metadata": {},
   "outputs": [
    {
     "name": "stdout",
     "output_type": "stream",
     "text": [
      "Xin chào!\n",
      "Tôi tên là Trương Minh Vũ.\n",
      "Tôi đến từ Hồ Chí Minh.\n"
     ]
    }
   ],
   "source": [
    "# Codpre lab 1 bài 1 ở đây\n",
    "print(\"Xin chào!\") \n",
    "print(\"Tôi tên là Trương Minh Vũ.\") \n",
    "print(\"Tôi đến từ Hồ Chí Minh.\") "
   ]
  },
  {
   "cell_type": "markdown",
   "id": "c0835310",
   "metadata": {},
   "source": [
    "## Lab 1 - Bài 2"
   ]
  },
  {
   "cell_type": "code",
   "execution_count": 3,
   "id": "fa9cb39f",
   "metadata": {},
   "outputs": [
    {
     "name": "stdout",
     "output_type": "stream",
     "text": [
      "Chu vi của hình chữ nhật là:  22.0\n",
      "Diện tích của hình chữ nhật là:  30.0\n"
     ]
    }
   ],
   "source": [
    "# Code lab 1  bài 2 ở đây\n",
    "# Nhập chiều dài và chiều rộng của hình chữ nhật\n",
    "dai = float(input(\"Nhập chiều dài của hình chữ nhật: \"))\n",
    "rong = float(input(\"Nhập chiều rộng của hình chữ nhật: \"))\n",
    "\n",
    "# Tính chu vi và diện tích\n",
    "chu_vi = (dai + rong) * 2\n",
    "dien_tich = dai * rong\n",
    "\n",
    "# In kết quả ra màn hình\n",
    "print(\"Chu vi của hình chữ nhật là: \", chu_vi)\n",
    "print(\"Diện tích của hình chữ nhật là: \", dien_tich)"
   ]
  },
  {
   "cell_type": "markdown",
   "id": "0f2483fe",
   "metadata": {},
   "source": [
    "## Lab 1 - Bài 3"
   ]
  },
  {
   "cell_type": "code",
   "execution_count": 4,
   "id": "7034990b",
   "metadata": {},
   "outputs": [
    {
     "name": "stdout",
     "output_type": "stream",
     "text": [
      "\"...\n",
      "Sống không gian, không hồn không oán trách\n",
      "Sống mỉm cười, với thử thách chống gai\n",
      "Sống vươn lên, theo kịp ánh ban mai\n",
      "Sống chan hòa, với những người chung sống.\n",
      "\n",
      "Sống là động, nhưng lòng luôn bất động\n",
      "Sống là thương, nhưng lòng chẳng vẫn vương\n",
      "Sống yên vui, danh lợi mãi coi thường\n",
      "Tâm bất biến, giữa dòng đời vạn biến.\n",
      "...\"\n"
     ]
    }
   ],
   "source": [
    "# Code lab 1  bài 3 ở đây\n",
    "# Khai báo biến lưu từ \"Sống\"\n",
    "song = \"Sống\"\n",
    "\n",
    "# In bài thơ với yêu cầu định dạng\n",
    "print('\"...')\n",
    "print(f'{song} không gian, không hồn không oán trách')\n",
    "print(f'{song} mỉm cười, với thử thách chống gai')\n",
    "print(f'{song} vươn lên, theo kịp ánh ban mai')\n",
    "print(f'{song} chan hòa, với những người chung sống.\\n')\n",
    "print(f'{song} là động, nhưng lòng luôn bất động')\n",
    "print(f'{song} là thương, nhưng lòng chẳng vẫn vương')\n",
    "print(f'{song} yên vui, danh lợi mãi coi thường')\n",
    "print(f'Tâm bất biến, giữa dòng đời vạn biến.')\n",
    "print('...\"')\n"
   ]
  },
  {
   "cell_type": "markdown",
   "id": "d36ea3d3",
   "metadata": {},
   "source": [
    "## Lab 1 - Bài 4"
   ]
  },
  {
   "cell_type": "code",
   "execution_count": 9,
   "id": "4c707ec1",
   "metadata": {},
   "outputs": [
    {
     "name": "stdout",
     "output_type": "stream",
     "text": [
      "Delta = -4.0\n",
      "Căn delta = 2.0\n"
     ]
    }
   ],
   "source": [
    "# code lab 1 bài 4 ở đây\n",
    "import math\n",
    "\n",
    "# Nhập hệ số\n",
    "a = float(input(\"Nhập a: \"))\n",
    "b = float(input(\"Nhập b: \"))\n",
    "c = float(input(\"Nhập c: \"))\n",
    "\n",
    "# Tính delta\n",
    "delta = b*b - 4*a*c\n",
    "\n",
    "# Dùng abs để luôn dương trước khi lấy căn\n",
    "can_delta = math.sqrt(abs(delta))\n",
    "\n",
    "# Xuất kết quả\n",
    "print(\"Delta =\", delta)\n",
    "print(\"Căn delta =\", can_delta)\n",
    "\n"
   ]
  }
 ],
 "metadata": {
  "kernelspec": {
   "display_name": "Python 3",
   "language": "python",
   "name": "python3"
  },
  "language_info": {
   "codemirror_mode": {
    "name": "ipython",
    "version": 3
   },
   "file_extension": ".py",
   "mimetype": "text/x-python",
   "name": "python",
   "nbconvert_exporter": "python",
   "pygments_lexer": "ipython3",
   "version": "3.13.2"
  }
 },
 "nbformat": 4,
 "nbformat_minor": 5
}
